{
 "cells": [
  {
   "cell_type": "code",
   "execution_count": 4,
   "metadata": {},
   "outputs": [],
   "source": [
    "import minerl\n",
    "from PIL import Image\n",
    "import random"
   ]
  },
  {
   "cell_type": "code",
   "execution_count": 5,
   "metadata": {},
   "outputs": [],
   "source": [
    "def save_images_at(dir_path, task_name):\n",
    "    data = minerl.data.make(task_name)\n",
    "    trajectory_names = data.get_trajectory_names()\n",
    "    random.shuffle(trajectory_names)\n",
    "    i = 1\n",
    "    for trajectory_name in trajectory_names:\n",
    "        trajectory = data.load_data(trajectory_name, skip_interval=0, include_metadata=False)\n",
    "        for current_state, action, reward, next_state, done in trajectory: \n",
    "            image = Image.fromarray(current_state['pov'])\n",
    "            image.save(f'{dir_path}{i}.png')\n",
    "            i += 1\n",
    "    print(i-1, 'images saved at', dir_path)"
   ]
  }
 ],
 "metadata": {
  "kernelspec": {
   "display_name": "Python 3",
   "language": "python",
   "name": "python3"
  },
  "language_info": {
   "codemirror_mode": {
    "name": "ipython",
    "version": 3
   },
   "file_extension": ".py",
   "mimetype": "text/x-python",
   "name": "python",
   "nbconvert_exporter": "python",
   "pygments_lexer": "ipython3",
   "version": "3.10.12"
  }
 },
 "nbformat": 4,
 "nbformat_minor": 2
}
